{
 "cells": [
  {
   "cell_type": "markdown",
   "metadata": {},
   "source": [
    "# Extracting Entities with REX\n",
    "Below we run through the following steps:\n",
    "1. Compare extractions from NLTK and Rosette Entity Extractor (REX)\n",
    "2. What other types of entities can we extract?\n",
    "3. Potential next steps\n"
   ]
  },
  {
   "cell_type": "code",
   "execution_count": null,
   "metadata": {
    "collapsed": true
   },
   "outputs": [],
   "source": [
    "# Global Settings for Rosette API\n",
    "rostte_api_uri = \"https://api.rosette.com/rest/v1\" \n",
    "rosette_api_key = \"_insert_your_key_here_\" #60 Day trail developer.rosette.com\n",
    "\n",
    "# Create Rosette API conneciton for examples below\n",
    "import json\n",
    "from rosette.api import API, DocumentParameters\n",
    "api = API(service_url=rostte_api_uri, user_key=rosette_api_key)\n",
    "params = DocumentParameters()"
   ]
  },
  {
   "cell_type": "markdown",
   "metadata": {},
   "source": [
    "----\n",
    "### 1) Compare extractions from NLTK and Rosette Entity Extractor (REX)"
   ]
  },
  {
   "cell_type": "code",
   "execution_count": null,
   "metadata": {
    "collapsed": true
   },
   "outputs": [],
   "source": [
    "# Setup NLTK \"named entity chunker\" to extract entities\n",
    "from nltk import word_tokenize\n",
    "from nltk import pos_tag\n",
    "from nltk.chunk import ne_chunk\n",
    "\n",
    "# Sample string to work with\n",
    "text = \"Jack and Jill went to Capitol Hill\""
   ]
  },
  {
   "cell_type": "code",
   "execution_count": null,
   "metadata": {
    "collapsed": false
   },
   "outputs": [],
   "source": [
    "# NLTK Entity Extraction relies on POS tags\n",
    "print pos_tag(word_tokenize(text))"
   ]
  },
  {
   "cell_type": "code",
   "execution_count": null,
   "metadata": {
    "collapsed": false
   },
   "outputs": [],
   "source": [
    "# Try this short string with NLTK\n",
    "print ne_chunk(pos_tag(word_tokenize(text)))"
   ]
  },
  {
   "cell_type": "code",
   "execution_count": null,
   "metadata": {
    "collapsed": false
   },
   "outputs": [],
   "source": [
    "# Compare NLTK output with Rosette API\n",
    "params[\"content\"] = text\n",
    "rosette_result = api.entities(params)\n",
    "print json.dumps(rosette_result, indent=2)"
   ]
  },
  {
   "cell_type": "code",
   "execution_count": null,
   "metadata": {
    "collapsed": false,
    "scrolled": true
   },
   "outputs": [],
   "source": [
    "# Try another string\n",
    "text = \"It is easy to mistake the scientist Isaac Newton, for the Massachusetts city of Newton in a sentence about the Fig Newton cookie.\"\n",
    "print ne_chunk(pos_tag(word_tokenize(text)))"
   ]
  },
  {
   "cell_type": "code",
   "execution_count": null,
   "metadata": {
    "collapsed": false
   },
   "outputs": [],
   "source": [
    "# Compare NLTK output with Rosette API\n",
    "params[\"content\"] = text\n",
    "rosette_result = api.entities(params)\n",
    "print json.dumps(rosette_result, indent=2)"
   ]
  },
  {
   "cell_type": "markdown",
   "metadata": {},
   "source": [
    "-----\n",
    "### 2) What other types of entities can we extract?"
   ]
  },
  {
   "cell_type": "code",
   "execution_count": null,
   "metadata": {
    "collapsed": false
   },
   "outputs": [],
   "source": [
    "# Explore options avaiable via commandline\n",
    "!../../rex-je-7.15.0.c56.6/bin/REXCmd"
   ]
  },
  {
   "cell_type": "code",
   "execution_count": null,
   "metadata": {
    "collapsed": false
   },
   "outputs": [],
   "source": [
    "# Display the supported entity types for each language. \n",
    "!../../rex-je-7.15.0.c56.6/bin/REXCmd info -rootDir ../../rex-je-7.15.0.c56.6 -entityTypes"
   ]
  },
  {
   "cell_type": "code",
   "execution_count": null,
   "metadata": {
    "collapsed": false
   },
   "outputs": [],
   "source": [
    "# Try finding some additional entity type. \n",
    "params[\"content\"] = \"Chris Mack is the Director of Customer Engineering at Basis Technology. \\\n",
    "                    He can be reached at 617-320-5591 or cmack@basistech.com.\"\n",
    "rosette_result = api.entities(params)\n",
    "print json.dumps(rosette_result, indent=2)"
   ]
  },
  {
   "cell_type": "code",
   "execution_count": null,
   "metadata": {
    "collapsed": false
   },
   "outputs": [],
   "source": [
    "# Why does it not do as well on this text?\n",
    "params[\"content\"] = \"Chris Mack \\\n",
    "                     Director of Customer Engineering \\\n",
    "                     Basis Technology \\\n",
    "                     617-320-5591 \\\n",
    "                     cmack@basistech.com\"\n",
    "rosette_result = api.entities(params)\n",
    "print json.dumps(rosette_result, indent=2)"
   ]
  },
  {
   "cell_type": "code",
   "execution_count": null,
   "metadata": {
    "collapsed": true
   },
   "outputs": [],
   "source": []
  }
 ],
 "metadata": {
  "kernelspec": {
   "display_name": "Python 2",
   "language": "python",
   "name": "python2"
  },
  "language_info": {
   "codemirror_mode": {
    "name": "ipython",
    "version": 2
   },
   "file_extension": ".py",
   "mimetype": "text/x-python",
   "name": "python",
   "nbconvert_exporter": "python",
   "pygments_lexer": "ipython2",
   "version": "2.7.8"
  }
 },
 "nbformat": 4,
 "nbformat_minor": 0
}
