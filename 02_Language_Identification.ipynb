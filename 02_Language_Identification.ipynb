{
 "cells": [
  {
   "cell_type": "markdown",
   "metadata": {},
   "source": [
    "##Lang Detect"
   ]
  },
  {
   "cell_type": "code",
   "execution_count": null,
   "metadata": {
    "collapsed": false
   },
   "outputs": [],
   "source": [
    "# Install langdetect\n",
    "# pip install langdect\n",
    "\n",
    "# Example Usage of LangDetect\n",
    "from langdetect import detect\n",
    "print detect(\"War doesn't show who's right, just who's left.\")\n",
    "\n",
    "# German Example\n",
    "print detect(\"Ein, zwei, drei, vier\")"
   ]
  },
  {
   "cell_type": "code",
   "execution_count": null,
   "metadata": {
    "collapsed": false
   },
   "outputs": [],
   "source": [
    "# Challenge of short strings\n",
    "print detect(\"kitchen\")"
   ]
  },
  {
   "cell_type": "markdown",
   "metadata": {},
   "source": [
    "Additional examples of short string ambiguity:\n",
    " - jenifer lawerence golden globe\n",
    " - fail\n",
    " - mens haircut\n",
    " - magazine illustration"
   ]
  },
  {
   "cell_type": "code",
   "execution_count": null,
   "metadata": {
    "collapsed": false
   },
   "outputs": [],
   "source": [
    "# Install NLTK\n",
    "# pip install -U nltk\n",
    "\n",
    "# Import genesis text\n",
    "import nltk\n",
    "nltk.download(\"genesis\")\n",
    "\n",
    "# Detecting the language of a document\n",
    "from nltk.corpus import genesis \n",
    "fileids = genesis.fileids()\n",
    "fileids"
   ]
  },
  {
   "cell_type": "code",
   "execution_count": null,
   "metadata": {
    "collapsed": false
   },
   "outputs": [],
   "source": []
  },
  {
   "cell_type": "code",
   "execution_count": null,
   "metadata": {
    "collapsed": false
   },
   "outputs": [],
   "source": [
    "# Inspect the the german.txt file\n",
    "raw = genesis.raw(fileids=['german.txt'])\n",
    "raw[:100]"
   ]
  },
  {
   "cell_type": "code",
   "execution_count": null,
   "metadata": {
    "collapsed": false
   },
   "outputs": [],
   "source": [
    "# Use Langdetect to on each file\n",
    "for file_name in fileids:\n",
    "    raw = genesis.raw(fileids=[file_name])\n",
    "    print file_name, len(raw), raw[:30], \"|\" ,detect(raw)"
   ]
  },
  {
   "cell_type": "markdown",
   "metadata": {},
   "source": [
    "##Rosette API"
   ]
  },
  {
   "cell_type": "code",
   "execution_count": null,
   "metadata": {
    "collapsed": true
   },
   "outputs": [],
   "source": [
    "# Install Rosette\n",
    "# pip install rosette-api\n",
    "\n",
    "# Global Settings for Rosette API\n",
    "rostte_api_uri = \"https://api.rosette.com/rest/v1\" \n",
    "rosette_api_key = \"_insert_your_key_here_\" #60 Day trail developer.rosette.com "
   ]
  },
  {
   "cell_type": "code",
   "execution_count": null,
   "metadata": {
    "collapsed": false
   },
   "outputs": [],
   "source": [
    "# Example Usage of Rosette API\n",
    "import json\n",
    "from rosette.api import API, DocumentParameters\n",
    "\n",
    "api = API(service_url=rostte_api_uri, user_key=rosette_api_key)\n",
    "params = DocumentParameters()\n",
    "result = api.ping()\n",
    "print(\"/ping: \", result)"
   ]
  },
  {
   "cell_type": "code",
   "execution_count": null,
   "metadata": {
    "collapsed": false
   },
   "outputs": [],
   "source": [
    "# Detect Langauges with Rosette API\n",
    "params[\"content\"] = u\"kitchen\"\n",
    "result = api.language(params)\n",
    "\n",
    "# Language identification results are in descending order of confidence, so the first result is the best.\n",
    "print result[\"languageDetections\"][0][\"language\"]"
   ]
  },
  {
   "cell_type": "code",
   "execution_count": null,
   "metadata": {
    "collapsed": true
   },
   "outputs": [],
   "source": [
    "# A method that compares the detected langauge \n",
    "def compare_languages(text, truth):\n",
    "    params[\"content\"] = text\n",
    "    ld_result = detect(text)\n",
    "    rosette_full_result = api.language(params)\n",
    "    rosette_result = rosette_full_result[\"languageDetections\"][0][\"language\"]\n",
    "    print truth,\" \", ld_result, rosette_result"
   ]
  },
  {
   "cell_type": "code",
   "execution_count": null,
   "metadata": {
    "collapsed": false
   },
   "outputs": [],
   "source": [
    "print \"truth ld ros\"\n",
    "print \"----- -- ---\"\n",
    "compare_languages(\"jenifer lawerence golden globe\",\"eng\")\n",
    "compare_languages(\"fail\",\"eng\")\n",
    "compare_languages(\"mens haircut\",\"eng\")\n",
    "compare_languages(\"magazine illustration\",\"eng\")\n",
    "compare_languages(\"Venta Programada\",\"eng\")"
   ]
  },
  {
   "cell_type": "code",
   "execution_count": null,
   "metadata": {
    "collapsed": true
   },
   "outputs": [],
   "source": []
  }
 ],
 "metadata": {
  "kernelspec": {
   "display_name": "Python 2",
   "language": "python",
   "name": "python2"
  },
  "language_info": {
   "codemirror_mode": {
    "name": "ipython",
    "version": 2
   },
   "file_extension": ".py",
   "mimetype": "text/x-python",
   "name": "python",
   "nbconvert_exporter": "python",
   "pygments_lexer": "ipython2",
   "version": "2.7.8"
  }
 },
 "nbformat": 4,
 "nbformat_minor": 0
}
