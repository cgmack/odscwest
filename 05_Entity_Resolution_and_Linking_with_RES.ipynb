{
 "cells": [
  {
   "cell_type": "markdown",
   "metadata": {},
   "source": [
    "# Linking Entities with RES\n",
    "Below we run through the following steps:\n",
    "1. Disambiguate an entity mention\n",
    "2. Use the QID to gather additonal meta data about the entity\n",
    "3. Potential next steps"
   ]
  },
  {
   "cell_type": "code",
   "execution_count": 1,
   "metadata": {
    "collapsed": true
   },
   "outputs": [],
   "source": [
    "# Global Settings for Rosette API\n",
    "rostte_api_uri = \"https://api.rosette.com/rest/v1\" \n",
    "rosette_api_key = \"_insert_your_key_here_\" #60 Day trail developer.rosette.com  \n",
    "\n",
    "# Create Rosette API conneciton for examples below\n",
    "import json\n",
    "from rosette.api import API, DocumentParameters\n",
    "api = API(service_url=rostte_api_uri, user_key=rosette_api_key)\n",
    "params = DocumentParameters()"
   ]
  },
  {
   "cell_type": "markdown",
   "metadata": {
    "collapsed": true
   },
   "source": [
    "----\n",
    "### 1) Disambiguate an entity mention"
   ]
  },
  {
   "cell_type": "code",
   "execution_count": 2,
   "metadata": {
    "collapsed": true
   },
   "outputs": [],
   "source": [
    "text = \"The first men to reach the moon – Mr. Armstrong and his co-pilot, Col. Edwin E. Aldrin, Jr. of the Air Force \\\n",
    "– brought their ship to rest on a level, rock-strewn plain near the southwestern shore of the arid Sea of Tranquility.\""
   ]
  },
  {
   "cell_type": "code",
   "execution_count": 3,
   "metadata": {
    "collapsed": false
   },
   "outputs": [
    {
     "name": "stdout",
     "output_type": "stream",
     "text": [
      "{\n",
      "  \"entities\": [\n",
      "    {\n",
      "      \"count\": 1, \n",
      "      \"confidence\": 0.012814700603485107, \n",
      "      \"mention\": \"Mr.\", \n",
      "      \"indocChainId\": 0, \n",
      "      \"normalized\": \"Mr.\", \n",
      "      \"type\": \"TITLE\"\n",
      "    }, \n",
      "    {\n",
      "      \"count\": 1, \n",
      "      \"confidence\": 0.019240379333496094, \n",
      "      \"mention\": \"Armstrong\", \n",
      "      \"indocChainId\": 1, \n",
      "      \"normalized\": \"Armstrong\", \n",
      "      \"type\": \"PERSON\"\n",
      "    }, \n",
      "    {\n",
      "      \"count\": 1, \n",
      "      \"confidence\": 0.011437475681304932, \n",
      "      \"mention\": \"Col.\", \n",
      "      \"indocChainId\": 2, \n",
      "      \"normalized\": \"Col.\", \n",
      "      \"type\": \"TITLE\"\n",
      "    }, \n",
      "    {\n",
      "      \"count\": 1, \n",
      "      \"confidence\": 0.01924818754196167, \n",
      "      \"mention\": \"Edwin E. Aldrin\", \n",
      "      \"indocChainId\": 3, \n",
      "      \"normalized\": \"Edwin E. Aldrin\", \n",
      "      \"type\": \"PERSON\"\n",
      "    }, \n",
      "    {\n",
      "      \"count\": 1, \n",
      "      \"confidence\": 0.0012608170509338379, \n",
      "      \"mention\": \"Air Force\", \n",
      "      \"indocChainId\": 4, \n",
      "      \"normalized\": \"Air Force\", \n",
      "      \"type\": \"ORGANIZATION\"\n",
      "    }, \n",
      "    {\n",
      "      \"count\": 1, \n",
      "      \"confidence\": 0.0006092190742492676, \n",
      "      \"mention\": \"Sea of Tranquility\", \n",
      "      \"indocChainId\": 5, \n",
      "      \"normalized\": \"Sea of Tranquility\", \n",
      "      \"type\": \"LOCATION\"\n",
      "    }\n",
      "  ], \n",
      "  \"requestId\": \"cd2fb33f-8de6-4a79-b308-8976b012f052\"\n",
      "}\n"
     ]
    }
   ],
   "source": [
    "# Compare NLTK output with Rosette API\n",
    "params[\"content\"] = text\n",
    "rosette_result = api.entities(params)\n",
    "print json.dumps(rosette_result, indent=2)"
   ]
  },
  {
   "cell_type": "markdown",
   "metadata": {},
   "source": [
    "----\n",
    "### 2) Use the QID to gather additonal meta data about the entity"
   ]
  },
  {
   "cell_type": "code",
   "execution_count": 5,
   "metadata": {
    "collapsed": false,
    "scrolled": true
   },
   "outputs": [],
   "source": [
    "# http://www.wikidata.org/wiki/Q1124"
   ]
  }
 ],
 "metadata": {
  "kernelspec": {
   "display_name": "Python 2",
   "language": "python",
   "name": "python2"
  },
  "language_info": {
   "codemirror_mode": {
    "name": "ipython",
    "version": 2
   },
   "file_extension": ".py",
   "mimetype": "text/x-python",
   "name": "python",
   "nbconvert_exporter": "python",
   "pygments_lexer": "ipython2",
   "version": "2.7.8"
  }
 },
 "nbformat": 4,
 "nbformat_minor": 0
}
